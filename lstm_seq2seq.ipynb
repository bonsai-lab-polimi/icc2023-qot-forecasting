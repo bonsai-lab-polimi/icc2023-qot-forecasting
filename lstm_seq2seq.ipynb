{
 "cells": [
  {
   "cell_type": "code",
   "execution_count": null,
   "metadata": {},
   "outputs": [],
   "source": [
    "from torch.utils.data import DataLoader\n",
    "\n",
    "from common.dataset import TimeSeriesDataset\n",
    "from models.lstm_seq2seq import VDEncoderDecoder\n",
    "\n",
    "import numpy as np\n",
    "import matplotlib.pyplot as plt\n",
    "\n",
    "import seaborn as sns\n",
    "sns.set_style('whitegrid')\n",
    "\n",
    "import matplotlib\n",
    "matplotlib.rcParams.update({'font.size': 20})"
   ]
  },
  {
   "cell_type": "code",
   "execution_count": null,
   "metadata": {},
   "outputs": [],
   "source": [
    "x_train = np.arange(0, 30, 0.05)\n",
    "x_test = np.arange(30, 60, 0.05)\n",
    "y_train = np.sin(x_train) + 2*np.random.randn(len(x_train)) * 0.1\n",
    "y_test = np.sin(x_test) + 2*np.random.randn(len(x_test)) * 0.1\n",
    "y_train_scaled = y_train / np.max(y_train)\n",
    "y_test_scaled = y_test / np.max(y_train)\n",
    "plt.figure()\n",
    "plt.plot(x_train, y_train_scaled)\n",
    "plt.plot(x_test, y_test_scaled);"
   ]
  },
  {
   "cell_type": "code",
   "execution_count": null,
   "metadata": {},
   "outputs": [],
   "source": [
    "train_dataset = TimeSeriesDataset(y_train_scaled.reshape(-1, 1), 100, 100)\n",
    "train_loader = DataLoader(train_dataset, 16)"
   ]
  },
  {
   "cell_type": "code",
   "execution_count": null,
   "metadata": {},
   "outputs": [],
   "source": [
    "model = VDEncoderDecoder(1, 32, 100, 0.1, 0.001)"
   ]
  },
  {
   "cell_type": "code",
   "execution_count": null,
   "metadata": {},
   "outputs": [],
   "source": [
    "model.learn(train_loader, 100)"
   ]
  },
  {
   "cell_type": "code",
   "execution_count": null,
   "metadata": {},
   "outputs": [],
   "source": [
    "test_dataset = TimeSeriesDataset(y_test_scaled.reshape(-1, 1), 100, 100)\n",
    "test_loader = DataLoader(test_dataset, 1)"
   ]
  },
  {
   "cell_type": "code",
   "execution_count": null,
   "metadata": {},
   "outputs": [],
   "source": [
    "x, y = next(iter(test_loader))"
   ]
  },
  {
   "cell_type": "code",
   "execution_count": null,
   "metadata": {},
   "outputs": [],
   "source": [
    "# Model uncertainty\n",
    "preds = np.squeeze(model.predict(x))\n",
    "mean_preds = np.mean([np.squeeze(model.predict(x)) for _ in range(100)], axis=0)\n",
    "squared_diff = (preds - mean_preds)**2\n",
    "model_unc = np.squeeze(np.mean(squared_diff, axis=0))"
   ]
  },
  {
   "cell_type": "code",
   "execution_count": null,
   "metadata": {},
   "outputs": [],
   "source": [
    "# Aleatoric uncertainty\n",
    "train_dataloader = DataLoader(train_dataset, batch_size=len(train_dataset))\n",
    "x_train, y_train = next(iter(train_dataloader))\n",
    "y_hat_train = model.predict(x_train) \n",
    "squared_errors = (y_hat_train - y_train.numpy())**2\n",
    "aleatoric_unc = np.squeeze(np.mean(squared_errors, axis=0))"
   ]
  },
  {
   "cell_type": "code",
   "execution_count": null,
   "metadata": {},
   "outputs": [],
   "source": [
    "total_unc_std = np.sqrt(model_unc + aleatoric_unc)"
   ]
  },
  {
   "cell_type": "code",
   "execution_count": null,
   "metadata": {},
   "outputs": [],
   "source": [
    "x = np.squeeze(x)\n",
    "plt.figure(figsize=(15, 5))\n",
    "plt.plot(np.arange(-len(x), 0), x, label=\"Input\")\n",
    "plt.plot(np.arange(0, len(mean_preds)), mean_preds, label='Forecast')\n",
    "plt.plot(np.arange(0, len(np.squeeze(y))), np.squeeze(y), label='Ground-truth', linestyle='--')\n",
    "plt.fill_between(np.arange(0, len(mean_preds)), mean_preds - 1.96*total_unc_std, mean_preds + 1.96*total_unc_std, alpha=0.3, color='tab:orange')\n",
    "plt.legend()\n",
    "plt.xticks([]);"
   ]
  },
  {
   "cell_type": "code",
   "execution_count": null,
   "metadata": {},
   "outputs": [],
   "source": []
  }
 ],
 "metadata": {
  "kernelspec": {
   "display_name": "Python 3.10.6 ('ml')",
   "language": "python",
   "name": "python3"
  },
  "language_info": {
   "codemirror_mode": {
    "name": "ipython",
    "version": 3
   },
   "file_extension": ".py",
   "mimetype": "text/x-python",
   "name": "python",
   "nbconvert_exporter": "python",
   "pygments_lexer": "ipython3",
   "version": "3.10.10"
  },
  "orig_nbformat": 4,
  "vscode": {
   "interpreter": {
    "hash": "338f2d5e48ae6fe4cbc12f0a080774b2d1d5b263ebe38d0587f47e4228b2561d"
   }
  }
 },
 "nbformat": 4,
 "nbformat_minor": 2
}
